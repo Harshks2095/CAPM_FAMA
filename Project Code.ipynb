{
 "cells": [
  {
   "cell_type": "code",
   "execution_count": 1,
   "id": "a9b41e4c-c58f-47f6-9f66-189eb684a804",
   "metadata": {},
   "outputs": [],
   "source": [
    "from indiafactorlibrary import IndiaFactorLibrary\n",
    "import pandas_datareader.data as web\n",
    "import matplotlib.pyplot as plt\n",
    "from scipy import stats\n",
    "import yfinance as yf #Imports the yfinance library (Yahoo Finance API wrapper) as yf\n",
    "import pandas as pd\n",
    "import numpy as np\n",
    "import datetime\n",
    "%matplotlib inline"
   ]
  },
  {
   "cell_type": "code",
   "execution_count": 2,
   "id": "df1c6524-95e8-496e-8a89-b5bd7cd95168",
   "metadata": {},
   "outputs": [
    {
     "name": "stderr",
     "output_type": "stream",
     "text": [
      "C:\\Users\\hp\\AppData\\Local\\Temp\\ipykernel_10532\\1089370755.py:1: FutureWarning: YF.download() has changed argument auto_adjust default to True\n",
      "  bajaj = yf.download(\"BAJAJ-AUTO.NS\", start=\"2021-01-01\", end=\"2022-01-01\") #Calls the function download() from the yfinance library (yf).\n",
      "[*********************100%***********************]  1 of 1 completed\n",
      "C:\\Users\\hp\\AppData\\Local\\Temp\\ipykernel_10532\\1089370755.py:2: FutureWarning: YF.download() has changed argument auto_adjust default to True\n",
      "  nifty = yf.download(\"^NSEI\", start=\"2021-01-01\", end=\"2022-01-01\")\n",
      "[*********************100%***********************]  1 of 1 completed\n"
     ]
    }
   ],
   "source": [
    "bajaj = yf.download(\"BAJAJ-AUTO.NS\", start=\"2021-01-01\", end=\"2022-01-01\") #Calls the function download() from the yfinance library (yf).\n",
    "nifty = yf.download(\"^NSEI\", start=\"2021-01-01\", end=\"2022-01-01\")"
   ]
  },
  {
   "cell_type": "code",
   "execution_count": 3,
   "id": "e0d4e3ce-240e-49e0-89f8-41295e522f80",
   "metadata": {},
   "outputs": [
    {
     "data": {
      "text/html": [
       "<div>\n",
       "<style scoped>\n",
       "    .dataframe tbody tr th:only-of-type {\n",
       "        vertical-align: middle;\n",
       "    }\n",
       "\n",
       "    .dataframe tbody tr th {\n",
       "        vertical-align: top;\n",
       "    }\n",
       "\n",
       "    .dataframe thead tr th {\n",
       "        text-align: left;\n",
       "    }\n",
       "\n",
       "    .dataframe thead tr:last-of-type th {\n",
       "        text-align: right;\n",
       "    }\n",
       "</style>\n",
       "<table border=\"1\" class=\"dataframe\">\n",
       "  <thead>\n",
       "    <tr>\n",
       "      <th>Price</th>\n",
       "      <th>Close</th>\n",
       "      <th>High</th>\n",
       "      <th>Low</th>\n",
       "      <th>Open</th>\n",
       "      <th>Volume</th>\n",
       "    </tr>\n",
       "    <tr>\n",
       "      <th>Ticker</th>\n",
       "      <th>^NSEI</th>\n",
       "      <th>^NSEI</th>\n",
       "      <th>^NSEI</th>\n",
       "      <th>^NSEI</th>\n",
       "      <th>^NSEI</th>\n",
       "    </tr>\n",
       "    <tr>\n",
       "      <th>Date</th>\n",
       "      <th></th>\n",
       "      <th></th>\n",
       "      <th></th>\n",
       "      <th></th>\n",
       "      <th></th>\n",
       "    </tr>\n",
       "  </thead>\n",
       "  <tbody>\n",
       "    <tr>\n",
       "      <th>2021-01-01</th>\n",
       "      <td>14018.500000</td>\n",
       "      <td>14049.849609</td>\n",
       "      <td>13991.349609</td>\n",
       "      <td>13996.099609</td>\n",
       "      <td>358100</td>\n",
       "    </tr>\n",
       "    <tr>\n",
       "      <th>2021-01-04</th>\n",
       "      <td>14132.900391</td>\n",
       "      <td>14147.950195</td>\n",
       "      <td>13953.750000</td>\n",
       "      <td>14104.349609</td>\n",
       "      <td>495000</td>\n",
       "    </tr>\n",
       "    <tr>\n",
       "      <th>2021-01-05</th>\n",
       "      <td>14199.500000</td>\n",
       "      <td>14215.599609</td>\n",
       "      <td>14048.150391</td>\n",
       "      <td>14075.150391</td>\n",
       "      <td>492500</td>\n",
       "    </tr>\n",
       "    <tr>\n",
       "      <th>2021-01-06</th>\n",
       "      <td>14146.250000</td>\n",
       "      <td>14244.150391</td>\n",
       "      <td>14039.900391</td>\n",
       "      <td>14240.950195</td>\n",
       "      <td>632300</td>\n",
       "    </tr>\n",
       "    <tr>\n",
       "      <th>2021-01-07</th>\n",
       "      <td>14137.349609</td>\n",
       "      <td>14256.250000</td>\n",
       "      <td>14123.099609</td>\n",
       "      <td>14253.750000</td>\n",
       "      <td>559200</td>\n",
       "    </tr>\n",
       "    <tr>\n",
       "      <th>...</th>\n",
       "      <td>...</td>\n",
       "      <td>...</td>\n",
       "      <td>...</td>\n",
       "      <td>...</td>\n",
       "      <td>...</td>\n",
       "    </tr>\n",
       "    <tr>\n",
       "      <th>2021-12-27</th>\n",
       "      <td>17086.250000</td>\n",
       "      <td>17112.050781</td>\n",
       "      <td>16833.199219</td>\n",
       "      <td>16937.750000</td>\n",
       "      <td>144800</td>\n",
       "    </tr>\n",
       "    <tr>\n",
       "      <th>2021-12-28</th>\n",
       "      <td>17233.250000</td>\n",
       "      <td>17250.250000</td>\n",
       "      <td>17161.150391</td>\n",
       "      <td>17177.599609</td>\n",
       "      <td>176000</td>\n",
       "    </tr>\n",
       "    <tr>\n",
       "      <th>2021-12-29</th>\n",
       "      <td>17213.599609</td>\n",
       "      <td>17285.949219</td>\n",
       "      <td>17176.650391</td>\n",
       "      <td>17220.099609</td>\n",
       "      <td>161700</td>\n",
       "    </tr>\n",
       "    <tr>\n",
       "      <th>2021-12-30</th>\n",
       "      <td>17203.949219</td>\n",
       "      <td>17264.050781</td>\n",
       "      <td>17146.349609</td>\n",
       "      <td>17201.449219</td>\n",
       "      <td>320800</td>\n",
       "    </tr>\n",
       "    <tr>\n",
       "      <th>2021-12-31</th>\n",
       "      <td>17354.050781</td>\n",
       "      <td>17400.800781</td>\n",
       "      <td>17238.500000</td>\n",
       "      <td>17244.500000</td>\n",
       "      <td>167000</td>\n",
       "    </tr>\n",
       "  </tbody>\n",
       "</table>\n",
       "<p>248 rows × 5 columns</p>\n",
       "</div>"
      ],
      "text/plain": [
       "Price              Close          High           Low          Open  Volume\n",
       "Ticker             ^NSEI         ^NSEI         ^NSEI         ^NSEI   ^NSEI\n",
       "Date                                                                      \n",
       "2021-01-01  14018.500000  14049.849609  13991.349609  13996.099609  358100\n",
       "2021-01-04  14132.900391  14147.950195  13953.750000  14104.349609  495000\n",
       "2021-01-05  14199.500000  14215.599609  14048.150391  14075.150391  492500\n",
       "2021-01-06  14146.250000  14244.150391  14039.900391  14240.950195  632300\n",
       "2021-01-07  14137.349609  14256.250000  14123.099609  14253.750000  559200\n",
       "...                  ...           ...           ...           ...     ...\n",
       "2021-12-27  17086.250000  17112.050781  16833.199219  16937.750000  144800\n",
       "2021-12-28  17233.250000  17250.250000  17161.150391  17177.599609  176000\n",
       "2021-12-29  17213.599609  17285.949219  17176.650391  17220.099609  161700\n",
       "2021-12-30  17203.949219  17264.050781  17146.349609  17201.449219  320800\n",
       "2021-12-31  17354.050781  17400.800781  17238.500000  17244.500000  167000\n",
       "\n",
       "[248 rows x 5 columns]"
      ]
     },
     "execution_count": 3,
     "metadata": {},
     "output_type": "execute_result"
    }
   ],
   "source": [
    "nifty"
   ]
  },
  {
   "cell_type": "code",
   "execution_count": 4,
   "id": "fb551860-b9e5-4c25-88ad-563152831593",
   "metadata": {},
   "outputs": [
    {
     "data": {
      "text/html": [
       "<div>\n",
       "<style scoped>\n",
       "    .dataframe tbody tr th:only-of-type {\n",
       "        vertical-align: middle;\n",
       "    }\n",
       "\n",
       "    .dataframe tbody tr th {\n",
       "        vertical-align: top;\n",
       "    }\n",
       "\n",
       "    .dataframe thead tr th {\n",
       "        text-align: left;\n",
       "    }\n",
       "\n",
       "    .dataframe thead tr:last-of-type th {\n",
       "        text-align: right;\n",
       "    }\n",
       "</style>\n",
       "<table border=\"1\" class=\"dataframe\">\n",
       "  <thead>\n",
       "    <tr>\n",
       "      <th>Price</th>\n",
       "      <th>Close</th>\n",
       "      <th>High</th>\n",
       "      <th>Low</th>\n",
       "      <th>Open</th>\n",
       "      <th>Volume</th>\n",
       "    </tr>\n",
       "    <tr>\n",
       "      <th>Ticker</th>\n",
       "      <th>BAJAJ-AUTO.NS</th>\n",
       "      <th>BAJAJ-AUTO.NS</th>\n",
       "      <th>BAJAJ-AUTO.NS</th>\n",
       "      <th>BAJAJ-AUTO.NS</th>\n",
       "      <th>BAJAJ-AUTO.NS</th>\n",
       "    </tr>\n",
       "    <tr>\n",
       "      <th>Date</th>\n",
       "      <th></th>\n",
       "      <th></th>\n",
       "      <th></th>\n",
       "      <th></th>\n",
       "      <th></th>\n",
       "    </tr>\n",
       "  </thead>\n",
       "  <tbody>\n",
       "    <tr>\n",
       "      <th>2021-01-01</th>\n",
       "      <td>3044.287109</td>\n",
       "      <td>3055.436743</td>\n",
       "      <td>3013.461653</td>\n",
       "      <td>3013.461653</td>\n",
       "      <td>421643</td>\n",
       "    </tr>\n",
       "    <tr>\n",
       "      <th>2021-01-04</th>\n",
       "      <td>3080.315430</td>\n",
       "      <td>3085.168842</td>\n",
       "      <td>3030.076541</td>\n",
       "      <td>3051.938565</td>\n",
       "      <td>647829</td>\n",
       "    </tr>\n",
       "    <tr>\n",
       "      <th>2021-01-05</th>\n",
       "      <td>3054.256104</td>\n",
       "      <td>3065.056030</td>\n",
       "      <td>3038.821599</td>\n",
       "      <td>3060.902245</td>\n",
       "      <td>561562</td>\n",
       "    </tr>\n",
       "    <tr>\n",
       "      <th>2021-01-06</th>\n",
       "      <td>3028.065674</td>\n",
       "      <td>3084.294851</td>\n",
       "      <td>3004.629538</td>\n",
       "      <td>3054.256340</td>\n",
       "      <td>591620</td>\n",
       "    </tr>\n",
       "    <tr>\n",
       "      <th>2021-01-07</th>\n",
       "      <td>3006.422119</td>\n",
       "      <td>3067.111233</td>\n",
       "      <td>2997.939696</td>\n",
       "      <td>3060.683712</td>\n",
       "      <td>531361</td>\n",
       "    </tr>\n",
       "    <tr>\n",
       "      <th>...</th>\n",
       "      <td>...</td>\n",
       "      <td>...</td>\n",
       "      <td>...</td>\n",
       "      <td>...</td>\n",
       "      <td>...</td>\n",
       "    </tr>\n",
       "    <tr>\n",
       "      <th>2021-12-27</th>\n",
       "      <td>2853.587158</td>\n",
       "      <td>2871.726679</td>\n",
       "      <td>2824.545459</td>\n",
       "      <td>2845.354090</td>\n",
       "      <td>94069</td>\n",
       "    </tr>\n",
       "    <tr>\n",
       "      <th>2021-12-28</th>\n",
       "      <td>2873.445557</td>\n",
       "      <td>2883.849871</td>\n",
       "      <td>2849.877478</td>\n",
       "      <td>2860.010332</td>\n",
       "      <td>214640</td>\n",
       "    </tr>\n",
       "    <tr>\n",
       "      <th>2021-12-29</th>\n",
       "      <td>2951.658936</td>\n",
       "      <td>2957.539635</td>\n",
       "      <td>2851.732319</td>\n",
       "      <td>2884.935611</td>\n",
       "      <td>563709</td>\n",
       "    </tr>\n",
       "    <tr>\n",
       "      <th>2021-12-30</th>\n",
       "      <td>2895.837646</td>\n",
       "      <td>2966.722566</td>\n",
       "      <td>2883.352424</td>\n",
       "      <td>2965.682223</td>\n",
       "      <td>594987</td>\n",
       "    </tr>\n",
       "    <tr>\n",
       "      <th>2021-12-31</th>\n",
       "      <td>2939.671387</td>\n",
       "      <td>2953.649314</td>\n",
       "      <td>2910.494068</td>\n",
       "      <td>2922.255468</td>\n",
       "      <td>248103</td>\n",
       "    </tr>\n",
       "  </tbody>\n",
       "</table>\n",
       "<p>248 rows × 5 columns</p>\n",
       "</div>"
      ],
      "text/plain": [
       "Price              Close          High           Low          Open  \\\n",
       "Ticker     BAJAJ-AUTO.NS BAJAJ-AUTO.NS BAJAJ-AUTO.NS BAJAJ-AUTO.NS   \n",
       "Date                                                                 \n",
       "2021-01-01   3044.287109   3055.436743   3013.461653   3013.461653   \n",
       "2021-01-04   3080.315430   3085.168842   3030.076541   3051.938565   \n",
       "2021-01-05   3054.256104   3065.056030   3038.821599   3060.902245   \n",
       "2021-01-06   3028.065674   3084.294851   3004.629538   3054.256340   \n",
       "2021-01-07   3006.422119   3067.111233   2997.939696   3060.683712   \n",
       "...                  ...           ...           ...           ...   \n",
       "2021-12-27   2853.587158   2871.726679   2824.545459   2845.354090   \n",
       "2021-12-28   2873.445557   2883.849871   2849.877478   2860.010332   \n",
       "2021-12-29   2951.658936   2957.539635   2851.732319   2884.935611   \n",
       "2021-12-30   2895.837646   2966.722566   2883.352424   2965.682223   \n",
       "2021-12-31   2939.671387   2953.649314   2910.494068   2922.255468   \n",
       "\n",
       "Price             Volume  \n",
       "Ticker     BAJAJ-AUTO.NS  \n",
       "Date                      \n",
       "2021-01-01        421643  \n",
       "2021-01-04        647829  \n",
       "2021-01-05        561562  \n",
       "2021-01-06        591620  \n",
       "2021-01-07        531361  \n",
       "...                  ...  \n",
       "2021-12-27         94069  \n",
       "2021-12-28        214640  \n",
       "2021-12-29        563709  \n",
       "2021-12-30        594987  \n",
       "2021-12-31        248103  \n",
       "\n",
       "[248 rows x 5 columns]"
      ]
     },
     "execution_count": 4,
     "metadata": {},
     "output_type": "execute_result"
    }
   ],
   "source": [
    "bajaj"
   ]
  },
  {
   "cell_type": "code",
   "execution_count": 5,
   "id": "8ae28cc4-1e29-4a2b-b88f-c6bf4c6a5c78",
   "metadata": {},
   "outputs": [
    {
     "data": {
      "image/png": "[encoded data removed]",
      "text/plain": [
       "<Figure size 500x400 with 1 Axes>"
      ]
     },
     "metadata": {},
     "output_type": "display_data"
    }
   ],
   "source": [
    "fig, ax = plt.subplots(figsize=(5,4)) #Think of fig as the whole painting frame, and ax as one chart inside it. Variable \"fig\" and \"ax\" can be changed to any other name\n",
    "\n",
    "bajaj['Close'].plot(ax=ax, label='Bajaj')\n",
    "nifty['Close'].plot(ax=ax, label='Nifty')\n",
    "\n",
    "plt.legend()\n",
    "plt.show()\n"
   ]
  },
  {
   "cell_type": "code",
   "execution_count": 6,
   "id": "970b90c7-7286-41d8-b616-11a6b9be356c",
   "metadata": {},
   "outputs": [
    {
     "data": {
      "image/png": "[encoded data removed]",
      "text/plain": [
       "<Figure size 640x480 with 1 Axes>"
      ]
     },
     "metadata": {},
     "output_type": "display_data"
    }
   ],
   "source": [
    "bajaj['daily_ret'] = bajaj['Close'].pct_change(1) #Calculates the percentage change in the Close price compared to 1 period before (i.e., yesterday)\n",
    "nifty['daily_ret'] = nifty['Close'].pct_change(1)\n",
    "plt.scatter(bajaj['daily_ret'],nifty['daily_ret'])\n",
    "plt.show()"
   ]
  },
  {
   "cell_type": "code",
   "execution_count": 7,
   "id": "afec93ac-b7aa-41e2-a75a-9b0dbd0fac99",
   "metadata": {},
   "outputs": [
    {
     "data": {
      "text/html": [
       "<div>\n",
       "<style scoped>\n",
       "    .dataframe tbody tr th:only-of-type {\n",
       "        vertical-align: middle;\n",
       "    }\n",
       "\n",
       "    .dataframe tbody tr th {\n",
       "        vertical-align: top;\n",
       "    }\n",
       "\n",
       "    .dataframe thead tr th {\n",
       "        text-align: left;\n",
       "    }\n",
       "\n",
       "    .dataframe thead tr:last-of-type th {\n",
       "        text-align: right;\n",
       "    }\n",
       "</style>\n",
       "<table border=\"1\" class=\"dataframe\">\n",
       "  <thead>\n",
       "    <tr>\n",
       "      <th>Price</th>\n",
       "      <th>Close</th>\n",
       "      <th>High</th>\n",
       "      <th>Low</th>\n",
       "      <th>Open</th>\n",
       "      <th>Volume</th>\n",
       "      <th>daily_ret</th>\n",
       "    </tr>\n",
       "    <tr>\n",
       "      <th>Ticker</th>\n",
       "      <th>BAJAJ-AUTO.NS</th>\n",
       "      <th>BAJAJ-AUTO.NS</th>\n",
       "      <th>BAJAJ-AUTO.NS</th>\n",
       "      <th>BAJAJ-AUTO.NS</th>\n",
       "      <th>BAJAJ-AUTO.NS</th>\n",
       "      <th></th>\n",
       "    </tr>\n",
       "    <tr>\n",
       "      <th>Date</th>\n",
       "      <th></th>\n",
       "      <th></th>\n",
       "      <th></th>\n",
       "      <th></th>\n",
       "      <th></th>\n",
       "      <th></th>\n",
       "    </tr>\n",
       "  </thead>\n",
       "  <tbody>\n",
       "    <tr>\n",
       "      <th>2021-01-04</th>\n",
       "      <td>3080.315430</td>\n",
       "      <td>3085.168842</td>\n",
       "      <td>3030.076541</td>\n",
       "      <td>3051.938565</td>\n",
       "      <td>647829</td>\n",
       "      <td>0.011835</td>\n",
       "    </tr>\n",
       "    <tr>\n",
       "      <th>2021-01-05</th>\n",
       "      <td>3054.256104</td>\n",
       "      <td>3065.056030</td>\n",
       "      <td>3038.821599</td>\n",
       "      <td>3060.902245</td>\n",
       "      <td>561562</td>\n",
       "      <td>-0.008460</td>\n",
       "    </tr>\n",
       "    <tr>\n",
       "      <th>2021-01-06</th>\n",
       "      <td>3028.065674</td>\n",
       "      <td>3084.294851</td>\n",
       "      <td>3004.629538</td>\n",
       "      <td>3054.256340</td>\n",
       "      <td>591620</td>\n",
       "      <td>-0.008575</td>\n",
       "    </tr>\n",
       "    <tr>\n",
       "      <th>2021-01-07</th>\n",
       "      <td>3006.422119</td>\n",
       "      <td>3067.111233</td>\n",
       "      <td>2997.939696</td>\n",
       "      <td>3060.683712</td>\n",
       "      <td>531361</td>\n",
       "      <td>-0.007148</td>\n",
       "    </tr>\n",
       "    <tr>\n",
       "      <th>2021-01-08</th>\n",
       "      <td>3086.174805</td>\n",
       "      <td>3099.685708</td>\n",
       "      <td>3006.509707</td>\n",
       "      <td>3033.574853</td>\n",
       "      <td>675643</td>\n",
       "      <td>0.026527</td>\n",
       "    </tr>\n",
       "    <tr>\n",
       "      <th>...</th>\n",
       "      <td>...</td>\n",
       "      <td>...</td>\n",
       "      <td>...</td>\n",
       "      <td>...</td>\n",
       "      <td>...</td>\n",
       "      <td>...</td>\n",
       "    </tr>\n",
       "    <tr>\n",
       "      <th>2021-12-27</th>\n",
       "      <td>2853.587158</td>\n",
       "      <td>2871.726679</td>\n",
       "      <td>2824.545459</td>\n",
       "      <td>2845.354090</td>\n",
       "      <td>94069</td>\n",
       "      <td>0.000650</td>\n",
       "    </tr>\n",
       "    <tr>\n",
       "      <th>2021-12-28</th>\n",
       "      <td>2873.445557</td>\n",
       "      <td>2883.849871</td>\n",
       "      <td>2849.877478</td>\n",
       "      <td>2860.010332</td>\n",
       "      <td>214640</td>\n",
       "      <td>0.006959</td>\n",
       "    </tr>\n",
       "    <tr>\n",
       "      <th>2021-12-29</th>\n",
       "      <td>2951.658936</td>\n",
       "      <td>2957.539635</td>\n",
       "      <td>2851.732319</td>\n",
       "      <td>2884.935611</td>\n",
       "      <td>563709</td>\n",
       "      <td>0.027219</td>\n",
       "    </tr>\n",
       "    <tr>\n",
       "      <th>2021-12-30</th>\n",
       "      <td>2895.837646</td>\n",
       "      <td>2966.722566</td>\n",
       "      <td>2883.352424</td>\n",
       "      <td>2965.682223</td>\n",
       "      <td>594987</td>\n",
       "      <td>-0.018912</td>\n",
       "    </tr>\n",
       "    <tr>\n",
       "      <th>2021-12-31</th>\n",
       "      <td>2939.671387</td>\n",
       "      <td>2953.649314</td>\n",
       "      <td>2910.494068</td>\n",
       "      <td>2922.255468</td>\n",
       "      <td>248103</td>\n",
       "      <td>0.015137</td>\n",
       "    </tr>\n",
       "  </tbody>\n",
       "</table>\n",
       "<p>247 rows × 6 columns</p>\n",
       "</div>"
      ],
      "text/plain": [
       "Price              Close          High           Low          Open  \\\n",
       "Ticker     BAJAJ-AUTO.NS BAJAJ-AUTO.NS BAJAJ-AUTO.NS BAJAJ-AUTO.NS   \n",
       "Date                                                                 \n",
       "2021-01-04   3080.315430   3085.168842   3030.076541   3051.938565   \n",
       "2021-01-05   3054.256104   3065.056030   3038.821599   3060.902245   \n",
       "2021-01-06   3028.065674   3084.294851   3004.629538   3054.256340   \n",
       "2021-01-07   3006.422119   3067.111233   2997.939696   3060.683712   \n",
       "2021-01-08   3086.174805   3099.685708   3006.509707   3033.574853   \n",
       "...                  ...           ...           ...           ...   \n",
       "2021-12-27   2853.587158   2871.726679   2824.545459   2845.354090   \n",
       "2021-12-28   2873.445557   2883.849871   2849.877478   2860.010332   \n",
       "2021-12-29   2951.658936   2957.539635   2851.732319   2884.935611   \n",
       "2021-12-30   2895.837646   2966.722566   2883.352424   2965.682223   \n",
       "2021-12-31   2939.671387   2953.649314   2910.494068   2922.255468   \n",
       "\n",
       "Price             Volume daily_ret  \n",
       "Ticker     BAJAJ-AUTO.NS            \n",
       "Date                                \n",
       "2021-01-04        647829  0.011835  \n",
       "2021-01-05        561562 -0.008460  \n",
       "2021-01-06        591620 -0.008575  \n",
       "2021-01-07        531361 -0.007148  \n",
       "2021-01-08        675643  0.026527  \n",
       "...                  ...       ...  \n",
       "2021-12-27         94069  0.000650  \n",
       "2021-12-28        214640  0.006959  \n",
       "2021-12-29        563709  0.027219  \n",
       "2021-12-30        594987 -0.018912  \n",
       "2021-12-31        248103  0.015137  \n",
       "\n",
       "[247 rows x 6 columns]"
      ]
     },
     "execution_count": 7,
     "metadata": {},
     "output_type": "execute_result"
    }
   ],
   "source": [
    "bajaj = bajaj.dropna()\n",
    "bajaj"
   ]
  },
  {
   "cell_type": "code",
   "execution_count": 8,
   "id": "d79c892c-a546-43d7-8b73-4ab00b497b12",
   "metadata": {},
   "outputs": [
    {
     "name": "stdout",
     "output_type": "stream",
     "text": [
      "[]\n"
     ]
    },
    {
     "name": "stderr",
     "output_type": "stream",
     "text": [
      "C:\\Users\\hp\\anaconda3\\Lib\\site-packages\\indiafactorlibrary\\indiafactorlibrary.py:133: FutureWarning: The argument 'date_parser' is deprecated and will be removed in a future version. Please use 'date_format' instead, or read your data in as 'object' dtype and then call 'to_datetime'.\n",
      "  df = pd.read_csv(StringIO(src[start:]), **params)\n",
      "C:\\Users\\hp\\anaconda3\\Lib\\site-packages\\indiafactorlibrary\\indiafactorlibrary.py:133: FutureWarning: The argument 'date_parser' is deprecated and will be removed in a future version. Please use 'date_format' instead, or read your data in as 'object' dtype and then call 'to_datetime'.\n",
      "  df = pd.read_csv(StringIO(src[start:]), **params)\n"
     ]
    },
    {
     "data": {
      "text/plain": [
       "{0:                 MF     SMB     HML     WML      RF     MKT\n",
       " Dates                                                     \n",
       " 2004-10-31  1.2168 -0.7958 -2.1386  2.7204  0.3877  1.6045\n",
       " 2004-11-30  9.4784  2.7437  1.0871  1.8346  0.4361  9.9145\n",
       " 2004-12-31  8.9490  3.8985  4.2841 -3.6782  0.4866  9.4356\n",
       " 2005-01-31 -1.9222  0.0189 -1.5688  2.5692  0.4032 -1.5190\n",
       " 2005-02-28  3.2679  2.2367  4.7104  2.5614  0.4195  3.6874\n",
       " ...            ...     ...     ...     ...     ...     ...\n",
       " 2025-03-31  7.1038 -1.8421  0.8276  4.5413  0.4888  7.5926\n",
       " 2025-04-30  2.2412 -1.2895  0.7823 -3.8910  0.4602  2.7014\n",
       " 2025-05-31  4.3249  6.3412 -0.6898 -4.1491  0.4852  4.8101\n",
       " 2025-06-30  3.1078 -0.2949  2.7386  0.7963  0.4566  3.5644\n",
       " 2025-07-31 -3.5114  2.6290  0.2521  1.7808  0.4939 -3.0175\n",
       " \n",
       " [250 rows x 6 columns],\n",
       " 1:                MF    SMB    HML    WML    RF    MKT\n",
       " Years                                              \n",
       " 2005-01-01  34.40   5.74  -4.06  18.01  5.46  41.56\n",
       " 2006-01-01  29.29  -6.51  -4.33  20.71  6.40  37.40\n",
       " 2007-01-01  55.03  -1.77  36.13  28.00  7.28  65.93\n",
       " 2008-01-01 -59.86 -27.32  -4.25 -17.27  7.77 -56.44\n",
       " 2009-01-01  82.83   9.54  17.08 -36.56  3.66  89.25\n",
       " 2010-01-01   6.54   5.33   3.25  16.25  5.49  12.35\n",
       " 2011-01-01 -32.73  -4.60 -16.09  44.56  8.05 -27.11\n",
       " 2012-01-01  19.23   9.26   1.06   0.54  8.48  29.21\n",
       " 2013-01-01  -5.58  -8.06 -16.76   4.70  8.72   2.69\n",
       " 2014-01-01  29.27  29.85   4.28  -2.92  8.59  40.15\n",
       " 2015-01-01  -5.61  12.55   3.89  19.49  7.75   1.73\n",
       " 2016-01-01  -0.99  -4.42  18.50  -2.35  6.75   5.72\n",
       " 2017-01-01  30.40  11.53  23.32  28.86  6.22  38.33\n",
       " 2018-01-01 -11.07 -24.17 -11.56  12.98  6.58  -5.16\n",
       " 2019-01-01   0.56 -20.09  -9.51  23.96  5.83   6.44\n",
       " 2020-01-01  15.08  12.83   3.06  -7.67  3.82  19.51\n",
       " 2021-01-01  31.89  15.54  12.80  24.49  3.42  36.30\n",
       " 2022-01-01   0.12  -2.42  20.29   5.60  5.11   5.24\n",
       " 2023-01-01  20.97  16.81  28.35  14.69  6.80  29.07\n",
       " 2024-01-01  10.28  12.73   6.24  13.53  6.78  17.69,\n",
       " 'DESCR': '\"This file contains value-weighted monthly and annual returns for long-short factors. Annual factors are calculated using geometric means and reflect January to December returns.\" \"For additional details on the methodologies and evidence supporting these models, refer to Raju, Rajan, \\'Four and Five-Factor Models in the Indian Equities Market\\' (March 10, 2022). Available at SSRN:\"\\n\"https://ssrn.com/abstract=4054146.\"\\n\\n  0 : Long-Short Returns -- Monthly (250 rows x 6 cols)\\n  1 : Annual Factors: January-December (20 rows x 6 cols)'}"
      ]
     },
     "execution_count": 8,
     "metadata": {},
     "output_type": "execute_result"
    }
   ],
   "source": [
    "ifl = IndiaFactorLibrary()\n",
    "print(ifl.get_available_datasets())\n",
    "data1 = ifl.read('ff4')  # for Fama–French 4-factor data\n",
    "data1"
   ]
  },
  {
   "cell_type": "code",
   "execution_count": 9,
   "id": "cb5b63b6-7dee-4bc7-9dcd-ad4803a81e09",
   "metadata": {},
   "outputs": [
    {
     "name": "stdout",
     "output_type": "stream",
     "text": [
      "                MF     SMB     HML     WML      RF     MKT\n",
      "Dates                                                     \n",
      "2021-01-31 -1.4435  0.8573  0.7562 -0.4614  0.2571 -1.1864\n",
      "2021-02-28  7.7129  1.8110  9.0531 -5.8449  0.2644  7.9773\n",
      "2021-03-31  1.3360 -1.6821 -4.1440  4.9374  0.2750  1.6110\n",
      "2021-04-30  0.8648  3.8920  4.4704  6.9962  0.2550  1.1198\n",
      "2021-05-31  7.3996  4.1264  2.8858  1.7309  0.2701  7.6697\n",
      "2021-06-30  2.4001  4.5217  1.9251  0.1500  0.3037  2.7038\n",
      "2021-07-31  1.4053  6.7870  2.3843  5.7254  0.2894  1.6947\n",
      "2021-08-31  5.8275 -9.9023 -7.4464  1.4209  0.2836  6.1111\n",
      "2021-09-30  3.6566  1.3104  4.0481 -1.9814  0.2797  3.9363\n",
      "2021-10-31 -0.5932  0.3323  2.3962  3.4246  0.2778 -0.3154\n",
      "2021-11-30 -2.4123  0.9368 -3.7053  2.8572  0.2862 -2.1261\n",
      "2021-12-31  2.4191  2.5311  0.5524  3.8561  0.3296  2.7487\n"
     ]
    }
   ],
   "source": [
    "df1 = data1[0]   # get the main factor dataset\n",
    "df1.index = pd.to_datetime(df1.index)\n",
    "\n",
    "# filter between 2021-01-01 and 2022-01-01\n",
    "filtered = df1.loc['2021-01-01':'2022-01-01']\n",
    "\n",
    "print(filtered.head(13))"
   ]
  },
  {
   "cell_type": "code",
   "execution_count": 10,
   "id": "ea666a19-6a70-45c4-83fd-5f3e32d8fcaa",
   "metadata": {},
   "outputs": [
    {
     "data": {
      "text/plain": [
       "1.097991666666667"
      ]
     },
     "execution_count": 10,
     "metadata": {},
     "output_type": "execute_result"
    }
   ],
   "source": [
    "hml = filtered['HML'].mean()\n",
    "hml"
   ]
  },
  {
   "cell_type": "code",
   "execution_count": 11,
   "id": "06efe672-1ed8-4eaa-8436-2ca38799978b",
   "metadata": {},
   "outputs": [
    {
     "data": {
      "text/plain": [
       "1.2934666666666665"
      ]
     },
     "execution_count": 11,
     "metadata": {},
     "output_type": "execute_result"
    }
   ],
   "source": [
    "smb = filtered['SMB'].mean()\n",
    "smb"
   ]
  },
  {
   "cell_type": "code",
   "execution_count": 12,
   "id": "88c4efec-3e9b-4377-8507-95c6646e04dc",
   "metadata": {},
   "outputs": [
    {
     "data": {
      "text/plain": [
       "0.2809666666666667"
      ]
     },
     "execution_count": 12,
     "metadata": {},
     "output_type": "execute_result"
    }
   ],
   "source": [
    "rf = filtered['RF'].mean()\n",
    "rf"
   ]
  },
  {
   "cell_type": "code",
   "execution_count": null,
   "id": "5223d9b2-9599-4bb6-af5b-5df5d9f11cfb",
   "metadata": {},
   "outputs": [],
   "source": []
  },
  {
   "cell_type": "code",
   "execution_count": 13,
   "id": "53cb9a96-a17d-467f-8679-4ae898262fd6",
   "metadata": {},
   "outputs": [
    {
     "name": "stdout",
     "output_type": "stream",
     "text": [
      "LinregressResult(slope=0.270886950425369, intercept=0.0009194063095722869, rvalue=0.42556103828525815, pvalue=2.7604023741154107e-12, stderr=0.036800865687801686, intercept_stderr=0.0005700541027343392)\n"
     ]
    }
   ],
   "source": [
    "df = pd.DataFrame({                #Creates a new DataFrame df with two columns:\n",
    "    'x': bajaj['daily_ret'],       #x = Bajaj’s daily returns, y = Nifty’s daily returns\n",
    "    'y': nifty['daily_ret']        #.dropna() removes any rows where either return is NaN (because the first row will be NaN due to pct_change).\n",
    "}).dropna()\n",
    "\n",
    "LR = stats.linregress(df['x'], df['y']) \n",
    "print(LR)\n"
   ]
  },
  {
   "cell_type": "code",
   "execution_count": 14,
   "id": "d577d50a-f22e-48a1-800d-9a900cb11f11",
   "metadata": {},
   "outputs": [
    {
     "data": {
      "text/plain": [
       "LinregressResult(slope=0.270886950425369, intercept=0.0009194063095722869, rvalue=0.42556103828525815, pvalue=2.7604023741154107e-12, stderr=0.036800865687801686, intercept_stderr=0.0005700541027343392)"
      ]
     },
     "execution_count": 14,
     "metadata": {},
     "output_type": "execute_result"
    }
   ],
   "source": [
    "LR"
   ]
  },
  {
   "cell_type": "code",
   "execution_count": 15,
   "id": "94244193-a79c-46ad-898e-d81ba948aa0d",
   "metadata": {},
   "outputs": [
    {
     "name": "stdout",
     "output_type": "stream",
     "text": [
      "0\n",
      "1\n"
     ]
    }
   ],
   "source": [
    "print(bajaj['daily_ret'].isna().sum()) #Counts the number of rows of daily_ret which is NaN\n",
    "print(nifty['daily_ret'].isna().sum())"
   ]
  },
  {
   "cell_type": "code",
   "execution_count": 16,
   "id": "1bff4be8-16c9-4d4e-833f-a74f0f75a4d7",
   "metadata": {},
   "outputs": [],
   "source": [
    "beta,alpha,r_val,p_val,std_err = LR"
   ]
  },
  {
   "cell_type": "code",
   "execution_count": 17,
   "id": "cfbbc94d-ce2f-4fe1-83af-eac5edb65e60",
   "metadata": {},
   "outputs": [
    {
     "data": {
      "text/plain": [
       "0.270886950425369"
      ]
     },
     "execution_count": 17,
     "metadata": {},
     "output_type": "execute_result"
    }
   ],
   "source": [
    "beta"
   ]
  },
  {
   "cell_type": "code",
   "execution_count": 18,
   "id": "c6fd3a77-3e20-44c8-b42e-d3adc87b3aeb",
   "metadata": {},
   "outputs": [],
   "source": [
    "date=datetime.datetime(2021,12,30) # we choose a random date to get the actual return and then to compare with the predicted one."
   ]
  },
  {
   "cell_type": "code",
   "execution_count": 19,
   "id": "55cc99c9-45dd-4a57-a0b6-eb07bdded626",
   "metadata": {},
   "outputs": [
    {
     "data": {
      "text/plain": [
       "Ticker\n",
       "^NSEI    0.237939\n",
       "dtype: float64"
      ]
     },
     "execution_count": 19,
     "metadata": {},
     "output_type": "execute_result"
    }
   ],
   "source": [
    "rm = (nifty['Close'].iloc[-1]-nifty['Close'].iloc[0])/nifty['Close'].iloc[0] #Total profit at the end of year\n",
    "rm"
   ]
  },
  {
   "cell_type": "code",
   "execution_count": 20,
   "id": "bad42365-4798-4338-827b-bc669cfcb64f",
   "metadata": {},
   "outputs": [
    {
     "name": "stdout",
     "output_type": "stream",
     "text": [
      "Ticker\n",
      "^NSEI    0.269311\n",
      "dtype: float64\n"
     ]
    }
   ],
   "source": [
    "expected_return_capm = rf+beta*(rm-rf)\n",
    "print(expected_return_capm)"
   ]
  },
  {
   "cell_type": "code",
   "execution_count": 21,
   "id": "4d9fea25-ad2c-44ef-ac2e-fddf5cc1cc81",
   "metadata": {},
   "outputs": [
    {
     "name": "stderr",
     "output_type": "stream",
     "text": [
      "C:\\Users\\hp\\AppData\\Local\\Temp\\ipykernel_10532\\83242184.py:2: FutureWarning: YF.download() has changed argument auto_adjust default to True\n",
      "  dbajaj = yf.download(\"BAJAJ-AUTO.NS\", start=date, end=\"2022-07-20\")  # end is exclusive\n",
      "[*********************100%***********************]  1 of 1 completed\n"
     ]
    },
    {
     "data": {
      "text/html": [
       "<div>\n",
       "<style scoped>\n",
       "    .dataframe tbody tr th:only-of-type {\n",
       "        vertical-align: middle;\n",
       "    }\n",
       "\n",
       "    .dataframe tbody tr th {\n",
       "        vertical-align: top;\n",
       "    }\n",
       "\n",
       "    .dataframe thead tr th {\n",
       "        text-align: left;\n",
       "    }\n",
       "\n",
       "    .dataframe thead tr:last-of-type th {\n",
       "        text-align: right;\n",
       "    }\n",
       "</style>\n",
       "<table border=\"1\" class=\"dataframe\">\n",
       "  <thead>\n",
       "    <tr>\n",
       "      <th>Price</th>\n",
       "      <th>Close</th>\n",
       "      <th>High</th>\n",
       "      <th>Low</th>\n",
       "      <th>Open</th>\n",
       "      <th>Volume</th>\n",
       "    </tr>\n",
       "    <tr>\n",
       "      <th>Ticker</th>\n",
       "      <th>BAJAJ-AUTO.NS</th>\n",
       "      <th>BAJAJ-AUTO.NS</th>\n",
       "      <th>BAJAJ-AUTO.NS</th>\n",
       "      <th>BAJAJ-AUTO.NS</th>\n",
       "      <th>BAJAJ-AUTO.NS</th>\n",
       "    </tr>\n",
       "    <tr>\n",
       "      <th>Date</th>\n",
       "      <th></th>\n",
       "      <th></th>\n",
       "      <th></th>\n",
       "      <th></th>\n",
       "      <th></th>\n",
       "    </tr>\n",
       "  </thead>\n",
       "  <tbody>\n",
       "    <tr>\n",
       "      <th>2022-07-19</th>\n",
       "      <td>3756.688477</td>\n",
       "      <td>3788.604371</td>\n",
       "      <td>3722.895177</td>\n",
       "      <td>3733.267888</td>\n",
       "      <td>512451</td>\n",
       "    </tr>\n",
       "  </tbody>\n",
       "</table>\n",
       "</div>"
      ],
      "text/plain": [
       "Price              Close          High           Low          Open  \\\n",
       "Ticker     BAJAJ-AUTO.NS BAJAJ-AUTO.NS BAJAJ-AUTO.NS BAJAJ-AUTO.NS   \n",
       "Date                                                                 \n",
       "2022-07-19   3756.688477   3788.604371   3722.895177   3733.267888   \n",
       "\n",
       "Price             Volume  \n",
       "Ticker     BAJAJ-AUTO.NS  \n",
       "Date                      \n",
       "2022-07-19        512451  "
      ]
     },
     "execution_count": 21,
     "metadata": {},
     "output_type": "execute_result"
    }
   ],
   "source": [
    "date = \"2022-07-19\"\n",
    "dbajaj = yf.download(\"BAJAJ-AUTO.NS\", start=date, end=\"2022-07-20\")  # end is exclusive\n",
    "dbajaj"
   ]
  },
  {
   "cell_type": "code",
   "execution_count": 22,
   "id": "9d33a94b-c9fe-4dd0-a241-e303c2312e3b",
   "metadata": {},
   "outputs": [
    {
     "data": {
      "text/plain": [
       "Ticker\n",
       "BAJAJ-AUTO.NS    1.219579\n",
       "dtype: float64"
      ]
     },
     "execution_count": 22,
     "metadata": {},
     "output_type": "execute_result"
    }
   ],
   "source": [
    "actual_return=dbajaj['Close'].iloc[0]/bajaj['Close'].iloc[0]\n",
    "actual_return"
   ]
  },
  {
   "cell_type": "code",
   "execution_count": 23,
   "id": "c4823ad6-03e6-48da-b124-070caef568b4",
   "metadata": {},
   "outputs": [
    {
     "data": {
      "text/plain": [
       "0.7791770306466945"
      ]
     },
     "execution_count": 23,
     "metadata": {},
     "output_type": "execute_result"
    }
   ],
   "source": [
    "err_capm = (actual_return.values[0] - expected_return_capm.values[0]) / actual_return.values[0]\n",
    "err_capm"
   ]
  },
  {
   "cell_type": "code",
   "execution_count": 24,
   "id": "7646ffa3-10fc-49df-9a58-5b423d74c15f",
   "metadata": {},
   "outputs": [
    {
     "data": {
      "text/plain": [
       "Ticker\n",
       "^NSEI    0.918045\n",
       "dtype: float64"
      ]
     },
     "execution_count": 24,
     "metadata": {},
     "output_type": "execute_result"
    }
   ],
   "source": [
    "expected_return_fama=rf+alpha+beta*(rm-rf)+beta*smb+beta*hml\n",
    "expected_return_fama"
   ]
  },
  {
   "cell_type": "code",
   "execution_count": 25,
   "id": "6a093ece-f0ee-4be6-9020-dd2d01736a50",
   "metadata": {},
   "outputs": [
    {
     "data": {
      "text/plain": [
       "0.2472441415336213"
      ]
     },
     "execution_count": 25,
     "metadata": {},
     "output_type": "execute_result"
    }
   ],
   "source": [
    "err_fama = (actual_return.values[0] - expected_return_fama.values[0]) / actual_return.values[0]\n",
    "err_fama"
   ]
  },
  {
   "cell_type": "raw",
   "id": "6e044654-b31c-4c25-9e34-8e47750c7e25",
   "metadata": {},
   "source": [
    "Since the error in FF(~0.247) is less than that of CAPM(~0.77917), hence FF is a better model."
   ]
  },
  {
   "cell_type": "code",
   "execution_count": null,
   "id": "73581f75-aefc-47a2-8caa-87404f5d15b5",
   "metadata": {},
   "outputs": [],
   "source": []
  },
  {
   "cell_type": "code",
   "execution_count": null,
   "id": "8569fd57-38d6-4d64-9846-d4b8c0eec266",
   "metadata": {},
   "outputs": [],
   "source": []
  }
 ],
 "metadata": {
  "kernelspec": {
   "display_name": "Python 3 (ipykernel)",
   "language": "python",
   "name": "python3"
  },
  "language_info": {
   "codemirror_mode": {
    "name": "ipython",
    "version": 3
   },
   "file_extension": ".py",
   "mimetype": "text/x-python",
   "name": "python",
   "nbconvert_exporter": "python",
   "pygments_lexer": "ipython3",
   "version": "3.12.7"
  }
 },
 "nbformat": 4,
 "nbformat_minor": 5
}
